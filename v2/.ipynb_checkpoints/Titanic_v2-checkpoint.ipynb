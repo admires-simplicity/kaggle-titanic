{
 "cells": [
  {
   "cell_type": "code",
   "execution_count": 2,
   "metadata": {
    "_cell_guid": "b1076dfc-b9ad-4769-8c92-a6c4dae69d19",
    "_uuid": "8f2839f25d086af736a60e9eeb907d3b93b6e0e5",
    "colab": {
     "base_uri": "https://localhost:8080/"
    },
    "id": "zemIDAqEc6if",
    "outputId": "19ae7b65-d0c9-4839-bb51-16af8c39328c"
   },
   "outputs": [
    {
     "name": "stderr",
     "output_type": "stream",
     "text": [
      "/tmp/ipykernel_16758/1324450713.py:6: DeprecationWarning: \n",
      "Pyarrow will become a required dependency of pandas in the next major release of pandas (pandas 3.0),\n",
      "(to allow more performant data types, such as the Arrow string type, and better interoperability with other libraries)\n",
      "but was not found to be installed on your system.\n",
      "If this would cause problems for you,\n",
      "please provide us feedback at https://github.com/pandas-dev/pandas/issues/54466\n",
      "        \n",
      "  import pandas as pd # data processing, CSV file I/O (e.g. pd.read_csv)\n"
     ]
    }
   ],
   "source": [
    "# This Python 3 environment comes with many helpful analytics libraries installed\n",
    "# It is defined by the kaggle/python Docker image: https://github.com/kaggle/docker-python\n",
    "# For example, here's several helpful packages to load\n",
    "\n",
    "import numpy as np # linear algebra\n",
    "import pandas as pd # data processing, CSV file I/O (e.g. pd.read_csv)\n",
    "\n",
    "# Input data files are available in the read-only \"../input/\" directory\n",
    "# For example, running this (by clicking run or pressing Shift+Enter) will list all files under the input directory\n",
    "\n",
    "import os\n",
    "for dirname, _, filenames in os.walk('/kaggle/input'):\n",
    "    for filename in filenames:\n",
    "        print(os.path.join(dirname, filename))\n",
    "\n",
    "# You can write up to 20GB to the current directory (/kaggle/working/) that gets preserved as output when you create a version using \"Save & Run All\"\n",
    "# You can also write temporary files to /kaggle/temp/, but they won't be saved outside of the current session"
   ]
  },
  {
   "cell_type": "code",
   "execution_count": 3,
   "metadata": {
    "id": "MAvqVL8Oc6ig"
   },
   "outputs": [],
   "source": [
    "import csv\n",
    "import torch\n",
    "import torch.nn as nn\n",
    "from torch.utils.data import Dataset, DataLoader, random_split\n",
    "import torch.optim as optim\n",
    "import torch.nn.functional as F\n",
    "import torch.nn.init as init\n",
    "import numpy as np\n",
    "import matplotlib.pyplot as plt\n",
    "import pandas as pd"
   ]
  },
  {
   "cell_type": "code",
   "execution_count": 4,
   "metadata": {
    "id": "P3IR3c_1c6ig"
   },
   "outputs": [],
   "source": [
    "def try_float(s):\n",
    "    try:\n",
    "        return float(s)\n",
    "    except ValueError:\n",
    "        return None\n",
    "\n",
    "def str_to_float_encode(s):\n",
    "    ord_strs = [ str(ord(c)) for c in s ]\n",
    "    ord_str = ''.join(ord_strs) if ord_strs else '-1.0'\n",
    "    return float(ord_str)\n",
    "\n",
    "def str_to_float(s):\n",
    "    f = try_float(s)\n",
    "    return f if f is not None else str_to_float_encode(s)"
   ]
  },
  {
   "cell_type": "code",
   "execution_count": 6,
   "metadata": {
    "colab": {
     "base_uri": "https://localhost:8080/"
    },
    "id": "2Xe7DD3Yc6ig",
    "outputId": "99a7ab5f-5a63-4125-d974-7f5cd3d7f39d"
   },
   "outputs": [],
   "source": [
    "#input_path = '../input/titanic/train.csv'\n",
    "input_path = '../train.csv'\n",
    "\n",
    "with open(input_path, 'r') as f:\n",
    "    reader = csv.reader(f)\n",
    "    _ = next(reader)\n",
    "    samples = []\n",
    "    targets = []\n",
    "\n",
    "    for row in reader:\n",
    "        target = int(row[1])\n",
    "        targets.append(target)\n",
    "\n",
    "        samp = [str_to_float(v) for v in row[2:]]\n",
    "        samples.append(samp)\n",
    "        #print(samp[3])"
   ]
  },
  {
   "cell_type": "code",
   "execution_count": 9,
   "metadata": {
    "colab": {
     "base_uri": "https://localhost:8080/"
    },
    "id": "XyVX3Zklc6ii",
    "outputId": "418253c8-4288-4119-e0a0-3d681c1194e2"
   },
   "outputs": [
    {
     "data": {
      "text/plain": [
       "(891, 10)"
      ]
     },
     "execution_count": 9,
     "metadata": {},
     "output_type": "execute_result"
    }
   ],
   "source": [
    "len(samples), len(samples[0])"
   ]
  },
  {
   "cell_type": "code",
   "execution_count": 10,
   "metadata": {
    "id": "zNhQ1j7O-cEt"
   },
   "outputs": [],
   "source": [
    "sample_tensor = torch.tensor(samples)\n",
    "sample_ndarray = np.array(samples)\n",
    "sample_df = pd.DataFrame(samples)"
   ]
  },
  {
   "cell_type": "code",
   "execution_count": 11,
   "metadata": {
    "colab": {
     "base_uri": "https://localhost:8080/"
    },
    "id": "Z078djk1Ev8d",
    "outputId": "67f6bbc9-af4a-475e-cec3-afc792477f41"
   },
   "outputs": [
    {
     "data": {
      "text/plain": [
       "0      3\n",
       "1    888\n",
       "2      2\n",
       "3     89\n",
       "4      7\n",
       "5      7\n",
       "6    638\n",
       "7    248\n",
       "8    148\n",
       "9      4\n",
       "dtype: int64"
      ]
     },
     "execution_count": 11,
     "metadata": {},
     "output_type": "execute_result"
    }
   ],
   "source": [
    "sample_df.nunique()"
   ]
  },
  {
   "cell_type": "code",
   "execution_count": 13,
   "metadata": {
    "colab": {
     "base_uri": "https://localhost:8080/"
    },
    "id": "wRc1ppbTDZVX",
    "outputId": "6c014bda-f69c-4592-8fe1-224c1565829f"
   },
   "outputs": [
    {
     "data": {
      "text/plain": [
       "tensor([[ 1.0000e+00,  8.7101e+37,  1.0997e+10,  ...,  2.6550e+01,\n",
       "         -1.0000e+00,  8.3000e+01],\n",
       "        [ 1.0000e+00,         inf,  1.0997e+10,  ...,  2.9700e+01,\n",
       "          6.7526e+05,  6.7000e+01],\n",
       "        [ 1.0000e+00,         inf,  1.0997e+10,  ...,  3.0000e+01,\n",
       "          6.8525e+05,  8.3000e+01],\n",
       "        ...,\n",
       "        [ 3.0000e+00,         inf,  1.0210e+16,  ...,  1.4500e+01,\n",
       "         -1.0000e+00,  8.3000e+01],\n",
       "        [ 3.0000e+00,         inf,  1.0210e+16,  ...,  3.4375e+01,\n",
       "         -1.0000e+00,  8.3000e+01],\n",
       "        [ 3.0000e+00,         inf,  1.0210e+16,  ...,  9.5875e+00,\n",
       "         -1.0000e+00,  8.3000e+01]])"
      ]
     },
     "execution_count": 13,
     "metadata": {},
     "output_type": "execute_result"
    }
   ],
   "source": [
    "counts = torch.unique(sample_tensor, dim=0)\n",
    "counts"
   ]
  },
  {
   "cell_type": "code",
   "execution_count": 21,
   "metadata": {
    "id": "gvlpx-fkAdyq"
   },
   "outputs": [],
   "source": [
    "sample_tensor_modified = sample_tensor\n",
    "sample_tensor_modified[:, 1] = torch.log(sample_tensor[:, 1]) # name -- this column is fucked, just get rid of it\n",
    "sample_tensor_modified[:, 2] = torch.log(sample_tensor[:, 2]) # sex -- I guess I can log-ify it\n",
    "sample_tensor_modified[:, 6] = torch.log(sample_tensor[:, 6]) # ticket -- logify it\n",
    "\n",
    "original_col = sample_tensor[:, 8]\n",
    "modified_column = torch.log(original_col)\n",
    "non_nan_mask = ~torch.isnan(modified_column)\n",
    "sample_tensor_modified[:, 8] = torch.where(non_nan_mask, modified_column, original_col) # cabin -- logify it and mask for nans\n",
    "\n",
    "\n",
    "max_float = torch.finfo(sample_tensor_modified.dtype).max\n",
    "sample_tensor_modified[torch.isinf(sample_tensor_modified)] = max_float\n",
    "sample_ndarray_modified = sample_tensor_modified.numpy()"
   ]
  },
  {
   "cell_type": "code",
   "execution_count": 19,
   "metadata": {
    "colab": {
     "base_uri": "https://localhost:8080/",
     "height": 449
    },
    "id": "ZVbasYL6-Frj",
    "outputId": "9e5566d0-e438-4252-9350-8ef19a837351"
   },
   "outputs": [
    {
     "data": {
      "image/png": "[encoded data removed]",
      "text/plain": [
       "<Figure size 640x480 with 1 Axes>"
      ]
     },
     "metadata": {},
     "output_type": "display_data"
    }
   ],
   "source": [
    "# Extract the column you want to visualize\n",
    "column_to_visualize = sample_ndarray_modified[:, 8]  # Assuming you want to visualize the first column\n",
    "\n",
    "# Plot the histogram\n",
    "plt.hist(column_to_visualize, bins=20, color='skyblue', edgecolor='black')\n",
    "\n",
    "# Add labels and title\n",
    "plt.xlabel('Values')\n",
    "plt.ylabel('Frequency')\n",
    "#plt.title('Distribution of the First Column of the Tensor')\n",
    "\n",
    "# Show the plot\n",
    "plt.show()"
   ]
  },
  {
   "cell_type": "code",
   "execution_count": 20,
   "metadata": {
    "colab": {
     "base_uri": "https://localhost:8080/"
    },
    "id": "W1sSlzHwFYZ7",
    "outputId": "db589804-5e5f-4d46-9a73-ecc3c9dd4911"
   },
   "outputs": [
    {
     "data": {
      "text/plain": [
       "array([-1.       , 13.423435 , -1.       , 18.027565 , -1.       ,\n",
       "       -1.       , 13.452032 , -1.       , -1.       , -1.       ,\n",
       "        8.875427 , 18.027561 , -1.       , -1.       , -1.       ,\n",
       "       -1.       , -1.       , -1.       , -1.       , -1.       ,\n",
       "       -1.       , 13.437691 , -1.       ,  8.78783  , -1.       ,\n",
       "       -1.       , -1.       , 50.263905 , -1.       , -1.       ,\n",
       "       -1.       , 13.408378 , -1.       , -1.       , -1.       ,\n",
       "       -1.       , -1.       , -1.       , -1.       , -1.       ,\n",
       "       -1.       , -1.       , -1.       , -1.       , -1.       ,\n",
       "       -1.       , -1.       , -1.       , -1.       , -1.       ,\n",
       "       -1.       , -1.       , 13.437394 , -1.       , 13.407764 ,\n",
       "       13.422986 , -1.       , -1.       , -1.       , -1.       ,\n",
       "       -1.       , 13.407626 , 13.423432 , -1.       , -1.       ,\n",
       "       -1.       , 13.466167 , -1.       , -1.       , -1.       ,\n",
       "       -1.       , -1.       , -1.       , -1.       , -1.       ,\n",
       "       22.67384  , -1.       , -1.       , -1.       , -1.       ,\n",
       "       -1.       , -1.       , -1.       , -1.       , -1.       ,\n",
       "       -1.       , -1.       , -1.       , 50.263905 , -1.       ,\n",
       "       -1.       , -1.       , 13.451881 , -1.       , -1.       ,\n",
       "       -1.       ,  8.787678 , 31.857779 , -1.       , -1.       ,\n",
       "       -1.       , -1.       , 13.437253 , -1.       , -1.       ,\n",
       "       -1.       , -1.       , -1.       , -1.       , -1.       ,\n",
       "       18.027563 , -1.       , -1.       , -1.       , -1.       ,\n",
       "       -1.       , -1.       , -1.       , 31.828758 , -1.       ,\n",
       "       -1.       , -1.       , -1.       , 18.056763 , 13.437253 ,\n",
       "       -1.       , -1.       , -1.       , 22.673836 , -1.       ,\n",
       "       -1.       , -1.       , -1.       , -1.       , -1.       ,\n",
       "       -1.       , 13.437547 , 18.027565 , -1.       , 13.408525 ,\n",
       "       -1.       , -1.       , -1.       , -1.       , -1.       ,\n",
       "       -1.       , -1.       , -1.       ,  8.860783 , -1.       ,\n",
       "       -1.       ,  8.817298 , -1.       , -1.       , -1.       ,\n",
       "       -1.       , -1.       , -1.       , -1.       , -1.       ,\n",
       "       -1.       , -1.       , -1.       , -1.       , -1.       ,\n",
       "       -1.       , 13.451884 , -1.       , -1.       , -1.       ,\n",
       "       13.407477 , -1.       , -1.       , -1.       ,  8.787983 ,\n",
       "       -1.       , -1.       , 13.422849 , -1.       , -1.       ,\n",
       "       -1.       , -1.       , -1.       ,  8.861067 , -1.       ,\n",
       "       13.392619 , -1.       , -1.       , -1.       , -1.       ,\n",
       "       -1.       , -1.       , -1.       ,  8.860783 ,  8.802672 ,\n",
       "       13.408516 , -1.       , -1.       , -1.       , -1.       ,\n",
       "       -1.       , -1.       , -1.       , -1.       , -1.       ,\n",
       "        8.875427 , -1.       , -1.       , -1.       , 13.392618 ,\n",
       "       -1.       , -1.       , -1.       , -1.       , -1.       ,\n",
       "       13.437399 , -1.       , -1.       , 13.437105 , -1.       ,\n",
       "       -1.       , -1.       , -1.       , -1.       , 13.42358  ,\n",
       "       -1.       , -1.       , -1.       , -1.       , -1.       ,\n",
       "       13.423432 , -1.       , -1.       , -1.       , -1.       ,\n",
       "       -1.       , -1.       , -1.       , -1.       , -1.       ,\n",
       "       -1.       , -1.       , -1.       , -1.       , -1.       ,\n",
       "       13.423291 , -1.       , -1.       , 13.437397 , -1.       ,\n",
       "       -1.       ,  8.875427 , 13.423438 , -1.       , -1.       ,\n",
       "       -1.       , -1.       , 13.408377 , -1.       , -1.       ,\n",
       "       -1.       , -1.       , 13.452322 , 13.408672 , -1.       ,\n",
       "       -1.       , -1.       , -1.       , 18.027565 , 13.423589 ,\n",
       "       -1.       , -1.       , -1.       , 18.027563 , -1.       ,\n",
       "        8.832733 , -1.       , -1.       , -1.       , -1.       ,\n",
       "       -1.       , -1.       , -1.       , -1.       , 13.392324 ,\n",
       "       -1.       , -1.       , -1.       , -1.       , -1.       ,\n",
       "       -1.       , 13.407928 ,  4.2195077, -1.       , -1.       ,\n",
       "       -1.       , -1.       , 31.843224 , 18.027561 , 31.828758 ,\n",
       "       -1.       , -1.       , -1.       , 18.056763 , -1.       ,\n",
       "       31.843224 , -1.       , 13.423139 , -1.       , 13.451889 ,\n",
       "       13.422989 , 68.67012  , -1.       , -1.       , -1.       ,\n",
       "       -1.       , -1.       , -1.       ,  8.818038 , 13.451886 ,\n",
       "       -1.       , -1.       , -1.       , -1.       , -1.       ,\n",
       "       13.42269  , -1.       ,  4.2195077, -1.       , 13.407476 ,\n",
       "       -1.       , 18.027565 , 13.423577 , -1.       , -1.       ,\n",
       "       -1.       ,  8.817298 , 13.4520235, -1.       ,  4.4308167,\n",
       "        8.860783 , 50.263905 , -1.       , -1.       , -1.       ,\n",
       "       13.466167 , -1.       , -1.       , -1.       , -1.       ,\n",
       "       -1.       , 18.027565 , -1.       , -1.       , -1.       ,\n",
       "       -1.       , 13.451884 , -1.       , -1.       , -1.       ,\n",
       "       -1.       , -1.       , -1.       , -1.       , -1.       ,\n",
       "       -1.       , 13.437401 , -1.       , -1.       , 13.407772 ,\n",
       "       13.4521675, -1.       , -1.       , -1.       , -1.       ,\n",
       "       -1.       , -1.       , 13.42343  , -1.       , -1.       ,\n",
       "       -1.       , -1.       , -1.       , -1.       , -1.       ,\n",
       "       -1.       , -1.       , -1.       , -1.       , -1.       ,\n",
       "       31.829357 , -1.       , -1.       , 13.437399 ,  8.875427 ,\n",
       "       -1.       , -1.       , -1.       , -1.       , -1.       ,\n",
       "       -1.       , -1.       , -1.       , -1.       , -1.       ,\n",
       "       -1.       , -1.       , -1.       , -1.       , -1.       ,\n",
       "       -1.       , -1.       , 13.423291 , -1.       , -1.       ,\n",
       "       -1.       , -1.       , -1.       , -1.       , -1.       ,\n",
       "       -1.       , -1.       , -1.       , -1.       , -1.       ,\n",
       "       -1.       , -1.       , -1.       , -1.       , 13.451592 ,\n",
       "       13.422986 , -1.       , -1.       , -1.       , 13.452029 ,\n",
       "       31.829357 , -1.       , -1.       , 50.263905 , -1.       ,\n",
       "       -1.       , -1.       , -1.       , -1.       , -1.       ,\n",
       "       13.392623 , -1.       , -1.       , -1.       , 18.027561 ,\n",
       "       -1.       , -1.       , 18.027563 , 13.423578 , -1.       ,\n",
       "       -1.       , 13.451892 , 13.437245 , -1.       , -1.       ,\n",
       "       13.451595 , -1.       , 13.452316 , -1.       , -1.       ,\n",
       "       -1.       , -1.       , -1.       , -1.       , -1.       ,\n",
       "       -1.       , -1.       , -1.       ,  4.2195077, -1.       ,\n",
       "       13.392317 , -1.       , -1.       , -1.       , -1.       ,\n",
       "       -1.       , -1.       , -1.       , -1.       , 13.407928 ,\n",
       "       -1.       , 13.42358  , 13.407775 , -1.       , -1.       ,\n",
       "       -1.       , -1.       , 13.422688 , -1.       , -1.       ,\n",
       "       -1.       , 13.437244 , -1.       , 31.843224 , -1.       ,\n",
       "       -1.       , -1.       , -1.       , -1.       , 13.40838  ,\n",
       "       13.423139 , -1.       , -1.       , -1.       , -1.       ,\n",
       "       -1.       , -1.       , 13.451743 , -1.       , -1.       ,\n",
       "       13.437545 , 13.466167 , -1.       , -1.       , -1.       ,\n",
       "       13.408371 , -1.       , -1.       , 13.407476 , -1.       ,\n",
       "       -1.       , -1.       , 13.423583 , -1.       , -1.       ,\n",
       "       -1.       , -1.       , -1.       , -1.       , -1.       ,\n",
       "       -1.       , 13.407777 , -1.       , -1.       , 13.407779 ,\n",
       "       13.407618 , -1.       , -1.       , -1.       , 13.423436 ,\n",
       "       -1.       , -1.       , -1.       , -1.       , -1.       ,\n",
       "       13.42328  , -1.       , -1.       , -1.       , -1.       ,\n",
       "       -1.       , 13.392321 , -1.       , 13.452322 , -1.       ,\n",
       "       -1.       , -1.       , -1.       , -1.       , -1.       ,\n",
       "       -1.       , -1.       , -1.       , -1.       , -1.       ,\n",
       "       -1.       , 18.027561 , 13.451743 , -1.       , -1.       ,\n",
       "       -1.       , -1.       , 13.452029 , -1.       , -1.       ,\n",
       "       -1.       , 13.423143 , -1.       , 13.392311 , -1.       ,\n",
       "       13.452323 , -1.       , 13.407917 , -1.       , -1.       ,\n",
       "       -1.       , 13.437244 , -1.       , -1.       , -1.       ,\n",
       "       -1.       , -1.       , -1.       , -1.       , 13.392464 ,\n",
       "       -1.       , -1.       , -1.       , -1.       , -1.       ,\n",
       "       -1.       , -1.       , -1.       , -1.       , 18.027565 ,\n",
       "       -1.       , -1.       , -1.       , -1.       , -1.       ,\n",
       "       -1.       , -1.       , -1.       ,  8.861067 , -1.       ,\n",
       "       -1.       , 13.437111 , -1.       , -1.       , -1.       ,\n",
       "       13.437682 , -1.       ,  8.833025 , -1.       , -1.       ,\n",
       "       13.392468 , -1.       , 13.408066 , -1.       , -1.       ,\n",
       "       -1.       , -1.       , -1.       , -1.       , -1.       ,\n",
       "       -1.       , 13.407772 , -1.       , -1.       , -1.       ,\n",
       "       13.437394 , -1.       , 13.392473 , -1.       , -1.       ,\n",
       "       -1.       , -1.       , -1.       , -1.       , -1.       ,\n",
       "       -1.       , -1.       , -1.       , -1.       , 13.437548 ,\n",
       "       -1.       , -1.       , 13.452179 , -1.       , -1.       ,\n",
       "       -1.       , -1.       , -1.       , -1.       , 18.027565 ,\n",
       "       -1.       , 13.408367 , -1.       , -1.       , -1.       ,\n",
       "       -1.       , -1.       , -1.       , -1.       , 50.249428 ,\n",
       "       -1.       , 13.43755  , -1.       , -1.       , -1.       ,\n",
       "       -1.       , -1.       , -1.       , -1.       ,  8.802823 ,\n",
       "       13.407615 , -1.       , -1.       , -1.       , -1.       ,\n",
       "       -1.       , -1.       , -1.       , 13.423143 , 22.67384  ,\n",
       "       31.843815 , 13.451742 , -1.       , -1.       , -1.       ,\n",
       "       -1.       , -1.       , 13.451742 , -1.       , -1.       ,\n",
       "       13.423575 , 18.027565 , 18.027565 , -1.       , -1.       ,\n",
       "       22.67384  , 13.422843 , 18.056763 , -1.       , -1.       ,\n",
       "       -1.       , -1.       , -1.       , -1.       ,  8.84736  ,\n",
       "       -1.       , -1.       , -1.       , -1.       , -1.       ,\n",
       "        8.802823 , -1.       , -1.       , -1.       , -1.       ,\n",
       "       -1.       , -1.       , 18.012634 , -1.       , -1.       ,\n",
       "       13.437544 , 13.422844 , 68.67012  , -1.       , -1.       ,\n",
       "       13.407618 , -1.       , -1.       , 13.43739  , -1.       ,\n",
       "       -1.       , 18.056767 , -1.       , -1.       , -1.       ,\n",
       "       -1.       , -1.       , -1.       , -1.       , 13.408377 ,\n",
       "       -1.       , -1.       , -1.       , 31.829357 , -1.       ,\n",
       "       13.437099 , -1.       , -1.       , -1.       , -1.       ,\n",
       "       -1.       , -1.       , 13.452465 , -1.       , -1.       ,\n",
       "       -1.       , 13.466174 , -1.       , -1.       ,  8.802523 ,\n",
       "       -1.       , 13.407615 ,  8.832587 , -1.       , -1.       ,\n",
       "       -1.       , -1.       , -1.       , -1.       , 31.8292   ,\n",
       "       -1.       , -1.       , -1.       , -1.       , -1.       ,\n",
       "       -1.       , 13.437108 , -1.       , -1.       , -1.       ,\n",
       "       -1.       , -1.       , 31.829357 , -1.       , -1.       ,\n",
       "       -1.       , 13.392626 , -1.       , -1.       ,  8.84736  ,\n",
       "       -1.       , -1.       , -1.       , -1.       , -1.       ,\n",
       "       18.012634 , -1.       , -1.       , -1.       , -1.       ,\n",
       "       13.408229 , -1.       , -1.       , 18.056767 , -1.       ,\n",
       "       -1.       , -1.       , -1.       , -1.       , 13.407626 ,\n",
       "       -1.       , -1.       , -1.       , -1.       , -1.       ,\n",
       "       13.452037 , -1.       , -1.       , -1.       , 13.422846 ,\n",
       "       -1.       , -1.       , -1.       , -1.       , -1.       ,\n",
       "       -1.       , -1.       , -1.       , -1.       , 13.423578 ,\n",
       "       -1.       , -1.       , -1.       , 13.437256 , -1.       ,\n",
       "       -1.       , -1.       , 13.451602 , -1.       , -1.       ,\n",
       "       -1.       , -1.       , 13.437108 , -1.       , -1.       ,\n",
       "       -1.       , -1.       , 13.39247  , -1.       , -1.       ,\n",
       "       -1.       , 13.437397 , 50.249428 , -1.       , -1.       ,\n",
       "       -1.       , -1.       , -1.       , -1.       , 13.422983 ,\n",
       "       -1.       , -1.       , -1.       , -1.       , -1.       ,\n",
       "       -1.       , -1.       , 13.407918 , -1.       , 18.027569 ,\n",
       "       -1.       ], dtype=float32)"
      ]
     },
     "execution_count": 20,
     "metadata": {},
     "output_type": "execute_result"
    }
   ],
   "source": [
    "sample_ndarray_modified[:, 8]"
   ]
  },
  {
   "cell_type": "code",
   "execution_count": 112,
   "metadata": {
    "colab": {
     "base_uri": "https://localhost:8080/"
    },
    "id": "GtgzXp7g_rMC",
    "outputId": "38acde0e-1971-4e94-f671-6bf88783e08a"
   },
   "outputs": [
    {
     "data": {
      "text/plain": [
       "array([-1.00000000e+00,  6.75653000e+05, -1.00000000e+00,  6.74950510e+07,\n",
       "       -1.00000000e+00, -1.00000000e+00,  6.95254000e+05, -1.00000000e+00,\n",
       "       -1.00000000e+00, -1.00000000e+00,  7.15400000e+03,  6.74948510e+07,\n",
       "       -1.00000000e+00, -1.00000000e+00, -1.00000000e+00, -1.00000000e+00,\n",
       "       -1.00000000e+00, -1.00000000e+00, -1.00000000e+00, -1.00000000e+00,\n",
       "       -1.00000000e+00,  6.85354000e+05, -1.00000000e+00,  6.55400000e+03,\n",
       "       -1.00000000e+00, -1.00000000e+00, -1.00000000e+00,  6.75051327e+21,\n",
       "       -1.00000000e+00, -1.00000000e+00, -1.00000000e+00,  6.65556000e+05,\n",
       "       -1.00000000e+00, -1.00000000e+00, -1.00000000e+00, -1.00000000e+00,\n",
       "       -1.00000000e+00, -1.00000000e+00, -1.00000000e+00, -1.00000000e+00,\n",
       "       -1.00000000e+00, -1.00000000e+00, -1.00000000e+00, -1.00000000e+00,\n",
       "       -1.00000000e+00, -1.00000000e+00, -1.00000000e+00, -1.00000000e+00,\n",
       "       -1.00000000e+00, -1.00000000e+00, -1.00000000e+00, -1.00000000e+00,\n",
       "        6.85151000e+05, -1.00000000e+00,  6.65148000e+05,  6.75350000e+05,\n",
       "       -1.00000000e+00, -1.00000000e+00, -1.00000000e+00, -1.00000000e+00,\n",
       "       -1.00000000e+00,  6.65056000e+05,  6.75651000e+05, -1.00000000e+00,\n",
       "       -1.00000000e+00, -1.00000000e+00,  7.05151000e+05, -1.00000000e+00,\n",
       "       -1.00000000e+00, -1.00000000e+00, -1.00000000e+00, -1.00000000e+00,\n",
       "       -1.00000000e+00, -1.00000000e+00, -1.00000000e+00,  7.03271555e+09,\n",
       "       -1.00000000e+00, -1.00000000e+00, -1.00000000e+00, -1.00000000e+00,\n",
       "       -1.00000000e+00, -1.00000000e+00, -1.00000000e+00, -1.00000000e+00,\n",
       "       -1.00000000e+00, -1.00000000e+00, -1.00000000e+00, -1.00000000e+00,\n",
       "        6.75051327e+21, -1.00000000e+00, -1.00000000e+00, -1.00000000e+00,\n",
       "        6.95149000e+05, -1.00000000e+00, -1.00000000e+00, -1.00000000e+00,\n",
       "        6.55300000e+03,  6.84948327e+13, -1.00000000e+00, -1.00000000e+00,\n",
       "       -1.00000000e+00, -1.00000000e+00,  6.85054000e+05, -1.00000000e+00,\n",
       "       -1.00000000e+00, -1.00000000e+00, -1.00000000e+00, -1.00000000e+00,\n",
       "       -1.00000000e+00, -1.00000000e+00,  6.74949480e+07, -1.00000000e+00,\n",
       "       -1.00000000e+00, -1.00000000e+00, -1.00000000e+00, -1.00000000e+00,\n",
       "       -1.00000000e+00, -1.00000000e+00,  6.65356327e+13, -1.00000000e+00,\n",
       "       -1.00000000e+00, -1.00000000e+00, -1.00000000e+00,  6.94948490e+07,\n",
       "        6.85054000e+05, -1.00000000e+00, -1.00000000e+00, -1.00000000e+00,\n",
       "        7.03269546e+09, -1.00000000e+00, -1.00000000e+00, -1.00000000e+00,\n",
       "       -1.00000000e+00, -1.00000000e+00, -1.00000000e+00, -1.00000000e+00,\n",
       "        6.85255000e+05,  6.74950510e+07, -1.00000000e+00,  6.65654000e+05,\n",
       "       -1.00000000e+00, -1.00000000e+00, -1.00000000e+00, -1.00000000e+00,\n",
       "       -1.00000000e+00, -1.00000000e+00, -1.00000000e+00, -1.00000000e+00,\n",
       "        7.05000000e+03, -1.00000000e+00, -1.00000000e+00,  6.75000000e+03,\n",
       "       -1.00000000e+00, -1.00000000e+00, -1.00000000e+00, -1.00000000e+00,\n",
       "       -1.00000000e+00, -1.00000000e+00, -1.00000000e+00, -1.00000000e+00,\n",
       "       -1.00000000e+00, -1.00000000e+00, -1.00000000e+00, -1.00000000e+00,\n",
       "       -1.00000000e+00, -1.00000000e+00,  6.95151000e+05, -1.00000000e+00,\n",
       "       -1.00000000e+00, -1.00000000e+00,  6.64957000e+05, -1.00000000e+00,\n",
       "       -1.00000000e+00, -1.00000000e+00,  6.55500000e+03, -1.00000000e+00,\n",
       "       -1.00000000e+00,  6.75257000e+05, -1.00000000e+00, -1.00000000e+00,\n",
       "       -1.00000000e+00, -1.00000000e+00, -1.00000000e+00,  7.05200000e+03,\n",
       "       -1.00000000e+00,  6.55150000e+05, -1.00000000e+00, -1.00000000e+00,\n",
       "       -1.00000000e+00, -1.00000000e+00, -1.00000000e+00, -1.00000000e+00,\n",
       "       -1.00000000e+00,  7.05000000e+03,  6.65200000e+03,  6.65648000e+05,\n",
       "       -1.00000000e+00, -1.00000000e+00, -1.00000000e+00, -1.00000000e+00,\n",
       "       -1.00000000e+00, -1.00000000e+00, -1.00000000e+00, -1.00000000e+00,\n",
       "       -1.00000000e+00,  7.15400000e+03, -1.00000000e+00, -1.00000000e+00,\n",
       "       -1.00000000e+00,  6.55149000e+05, -1.00000000e+00, -1.00000000e+00,\n",
       "       -1.00000000e+00, -1.00000000e+00, -1.00000000e+00,  6.85154000e+05,\n",
       "       -1.00000000e+00, -1.00000000e+00,  6.84953000e+05, -1.00000000e+00,\n",
       "       -1.00000000e+00, -1.00000000e+00, -1.00000000e+00, -1.00000000e+00,\n",
       "        6.75751000e+05, -1.00000000e+00, -1.00000000e+00, -1.00000000e+00,\n",
       "       -1.00000000e+00, -1.00000000e+00,  6.75651000e+05, -1.00000000e+00,\n",
       "       -1.00000000e+00, -1.00000000e+00, -1.00000000e+00, -1.00000000e+00,\n",
       "       -1.00000000e+00, -1.00000000e+00, -1.00000000e+00, -1.00000000e+00,\n",
       "       -1.00000000e+00, -1.00000000e+00, -1.00000000e+00, -1.00000000e+00,\n",
       "       -1.00000000e+00,  6.75556000e+05, -1.00000000e+00, -1.00000000e+00,\n",
       "        6.85153000e+05, -1.00000000e+00, -1.00000000e+00,  7.15400000e+03,\n",
       "        6.75655000e+05, -1.00000000e+00, -1.00000000e+00, -1.00000000e+00,\n",
       "       -1.00000000e+00,  6.65555000e+05, -1.00000000e+00, -1.00000000e+00,\n",
       "       -1.00000000e+00, -1.00000000e+00,  6.95455000e+05,  6.65752000e+05,\n",
       "       -1.00000000e+00, -1.00000000e+00, -1.00000000e+00, -1.00000000e+00,\n",
       "        6.74950530e+07,  6.75757000e+05, -1.00000000e+00, -1.00000000e+00,\n",
       "       -1.00000000e+00,  6.74949560e+07, -1.00000000e+00,  6.85500000e+03,\n",
       "       -1.00000000e+00, -1.00000000e+00, -1.00000000e+00, -1.00000000e+00,\n",
       "       -1.00000000e+00, -1.00000000e+00, -1.00000000e+00, -1.00000000e+00,\n",
       "        6.54957000e+05, -1.00000000e+00, -1.00000000e+00, -1.00000000e+00,\n",
       "       -1.00000000e+00, -1.00000000e+00, -1.00000000e+00,  6.65257000e+05,\n",
       "        6.80000000e+01, -1.00000000e+00, -1.00000000e+00, -1.00000000e+00,\n",
       "       -1.00000000e+00,  6.75050327e+13,  6.74948540e+07,  6.65356327e+13,\n",
       "       -1.00000000e+00, -1.00000000e+00, -1.00000000e+00,  6.94948490e+07,\n",
       "       -1.00000000e+00,  6.75050327e+13, -1.00000000e+00,  6.75453000e+05,\n",
       "       -1.00000000e+00,  6.95154000e+05,  6.75352000e+05,  6.65355327e+29,\n",
       "       -1.00000000e+00, -1.00000000e+00, -1.00000000e+00, -1.00000000e+00,\n",
       "       -1.00000000e+00, -1.00000000e+00,  6.75500000e+03,  6.95152000e+05,\n",
       "       -1.00000000e+00, -1.00000000e+00, -1.00000000e+00, -1.00000000e+00,\n",
       "       -1.00000000e+00,  6.75150000e+05, -1.00000000e+00,  6.80000000e+01,\n",
       "       -1.00000000e+00,  6.64956000e+05, -1.00000000e+00,  6.74950520e+07,\n",
       "        6.75749000e+05, -1.00000000e+00, -1.00000000e+00, -1.00000000e+00,\n",
       "        6.75000000e+03,  6.95248000e+05, -1.00000000e+00,  8.40000000e+01,\n",
       "        7.05000000e+03,  6.75051327e+21, -1.00000000e+00, -1.00000000e+00,\n",
       "       -1.00000000e+00,  7.05151000e+05, -1.00000000e+00, -1.00000000e+00,\n",
       "       -1.00000000e+00, -1.00000000e+00, -1.00000000e+00,  6.74950560e+07,\n",
       "       -1.00000000e+00, -1.00000000e+00, -1.00000000e+00, -1.00000000e+00,\n",
       "        6.95151000e+05, -1.00000000e+00, -1.00000000e+00, -1.00000000e+00,\n",
       "       -1.00000000e+00, -1.00000000e+00, -1.00000000e+00, -1.00000000e+00,\n",
       "       -1.00000000e+00, -1.00000000e+00,  6.85155000e+05, -1.00000000e+00,\n",
       "       -1.00000000e+00,  6.65153000e+05,  6.95348000e+05, -1.00000000e+00,\n",
       "       -1.00000000e+00, -1.00000000e+00, -1.00000000e+00, -1.00000000e+00,\n",
       "       -1.00000000e+00,  6.75650000e+05, -1.00000000e+00, -1.00000000e+00,\n",
       "       -1.00000000e+00, -1.00000000e+00, -1.00000000e+00, -1.00000000e+00,\n",
       "       -1.00000000e+00, -1.00000000e+00, -1.00000000e+00, -1.00000000e+00,\n",
       "       -1.00000000e+00, -1.00000000e+00,  6.65754327e+13, -1.00000000e+00,\n",
       "       -1.00000000e+00,  6.85154000e+05,  7.15400000e+03, -1.00000000e+00,\n",
       "       -1.00000000e+00, -1.00000000e+00, -1.00000000e+00, -1.00000000e+00,\n",
       "       -1.00000000e+00, -1.00000000e+00, -1.00000000e+00, -1.00000000e+00,\n",
       "       -1.00000000e+00, -1.00000000e+00, -1.00000000e+00, -1.00000000e+00,\n",
       "       -1.00000000e+00, -1.00000000e+00, -1.00000000e+00, -1.00000000e+00,\n",
       "        6.75556000e+05, -1.00000000e+00, -1.00000000e+00, -1.00000000e+00,\n",
       "       -1.00000000e+00, -1.00000000e+00, -1.00000000e+00, -1.00000000e+00,\n",
       "       -1.00000000e+00, -1.00000000e+00, -1.00000000e+00, -1.00000000e+00,\n",
       "       -1.00000000e+00, -1.00000000e+00, -1.00000000e+00, -1.00000000e+00,\n",
       "       -1.00000000e+00,  6.94948000e+05,  6.75350000e+05, -1.00000000e+00,\n",
       "       -1.00000000e+00, -1.00000000e+00,  6.95252000e+05,  6.65754327e+13,\n",
       "       -1.00000000e+00, -1.00000000e+00,  6.75051327e+21, -1.00000000e+00,\n",
       "       -1.00000000e+00, -1.00000000e+00, -1.00000000e+00, -1.00000000e+00,\n",
       "       -1.00000000e+00,  6.55152000e+05, -1.00000000e+00, -1.00000000e+00,\n",
       "       -1.00000000e+00,  6.74948520e+07, -1.00000000e+00, -1.00000000e+00,\n",
       "        6.74949490e+07,  6.75750000e+05, -1.00000000e+00, -1.00000000e+00,\n",
       "        6.95156000e+05,  6.85049000e+05, -1.00000000e+00, -1.00000000e+00,\n",
       "        6.94950000e+05, -1.00000000e+00,  6.95451000e+05, -1.00000000e+00,\n",
       "       -1.00000000e+00, -1.00000000e+00, -1.00000000e+00, -1.00000000e+00,\n",
       "       -1.00000000e+00, -1.00000000e+00, -1.00000000e+00, -1.00000000e+00,\n",
       "       -1.00000000e+00,  6.80000000e+01, -1.00000000e+00,  6.54952000e+05,\n",
       "       -1.00000000e+00, -1.00000000e+00, -1.00000000e+00, -1.00000000e+00,\n",
       "       -1.00000000e+00, -1.00000000e+00, -1.00000000e+00, -1.00000000e+00,\n",
       "        6.65257000e+05, -1.00000000e+00,  6.75751000e+05,  6.65155000e+05,\n",
       "       -1.00000000e+00, -1.00000000e+00, -1.00000000e+00, -1.00000000e+00,\n",
       "        6.75148000e+05, -1.00000000e+00, -1.00000000e+00, -1.00000000e+00,\n",
       "        6.85048000e+05, -1.00000000e+00,  6.75050327e+13, -1.00000000e+00,\n",
       "       -1.00000000e+00, -1.00000000e+00, -1.00000000e+00, -1.00000000e+00,\n",
       "        6.65557000e+05,  6.75453000e+05, -1.00000000e+00, -1.00000000e+00,\n",
       "       -1.00000000e+00, -1.00000000e+00, -1.00000000e+00, -1.00000000e+00,\n",
       "        6.95053000e+05, -1.00000000e+00, -1.00000000e+00,  6.85254000e+05,\n",
       "        7.05151000e+05, -1.00000000e+00, -1.00000000e+00, -1.00000000e+00,\n",
       "        6.65551000e+05, -1.00000000e+00, -1.00000000e+00,  6.64956000e+05,\n",
       "       -1.00000000e+00, -1.00000000e+00, -1.00000000e+00,  6.75753000e+05,\n",
       "       -1.00000000e+00, -1.00000000e+00, -1.00000000e+00, -1.00000000e+00,\n",
       "       -1.00000000e+00, -1.00000000e+00, -1.00000000e+00, -1.00000000e+00,\n",
       "        6.65156000e+05, -1.00000000e+00, -1.00000000e+00,  6.65157000e+05,\n",
       "        6.65050000e+05, -1.00000000e+00, -1.00000000e+00, -1.00000000e+00,\n",
       "        6.75654000e+05, -1.00000000e+00, -1.00000000e+00, -1.00000000e+00,\n",
       "       -1.00000000e+00, -1.00000000e+00,  6.75548000e+05, -1.00000000e+00,\n",
       "       -1.00000000e+00, -1.00000000e+00, -1.00000000e+00, -1.00000000e+00,\n",
       "        6.54954000e+05, -1.00000000e+00,  6.95455000e+05, -1.00000000e+00,\n",
       "       -1.00000000e+00, -1.00000000e+00, -1.00000000e+00, -1.00000000e+00,\n",
       "       -1.00000000e+00, -1.00000000e+00, -1.00000000e+00, -1.00000000e+00,\n",
       "       -1.00000000e+00, -1.00000000e+00, -1.00000000e+00,  6.74948490e+07,\n",
       "        6.95053000e+05, -1.00000000e+00, -1.00000000e+00, -1.00000000e+00,\n",
       "       -1.00000000e+00,  6.95252000e+05, -1.00000000e+00, -1.00000000e+00,\n",
       "       -1.00000000e+00,  6.75456000e+05, -1.00000000e+00,  6.54948000e+05,\n",
       "       -1.00000000e+00,  6.95456000e+05, -1.00000000e+00,  6.65249000e+05,\n",
       "       -1.00000000e+00, -1.00000000e+00, -1.00000000e+00,  6.85048000e+05,\n",
       "       -1.00000000e+00, -1.00000000e+00, -1.00000000e+00, -1.00000000e+00,\n",
       "       -1.00000000e+00, -1.00000000e+00, -1.00000000e+00,  6.55048000e+05,\n",
       "       -1.00000000e+00, -1.00000000e+00, -1.00000000e+00, -1.00000000e+00,\n",
       "       -1.00000000e+00, -1.00000000e+00, -1.00000000e+00, -1.00000000e+00,\n",
       "       -1.00000000e+00,  6.74950530e+07, -1.00000000e+00, -1.00000000e+00,\n",
       "       -1.00000000e+00, -1.00000000e+00, -1.00000000e+00, -1.00000000e+00,\n",
       "       -1.00000000e+00, -1.00000000e+00,  7.05200000e+03, -1.00000000e+00,\n",
       "       -1.00000000e+00,  6.84957000e+05, -1.00000000e+00, -1.00000000e+00,\n",
       "       -1.00000000e+00,  6.85348000e+05, -1.00000000e+00,  6.85700000e+03,\n",
       "       -1.00000000e+00, -1.00000000e+00,  6.55051000e+05, -1.00000000e+00,\n",
       "        6.65348000e+05, -1.00000000e+00, -1.00000000e+00, -1.00000000e+00,\n",
       "       -1.00000000e+00, -1.00000000e+00, -1.00000000e+00, -1.00000000e+00,\n",
       "       -1.00000000e+00,  6.65153000e+05, -1.00000000e+00, -1.00000000e+00,\n",
       "       -1.00000000e+00,  6.85151000e+05, -1.00000000e+00,  6.55054000e+05,\n",
       "       -1.00000000e+00, -1.00000000e+00, -1.00000000e+00, -1.00000000e+00,\n",
       "       -1.00000000e+00, -1.00000000e+00, -1.00000000e+00, -1.00000000e+00,\n",
       "       -1.00000000e+00, -1.00000000e+00, -1.00000000e+00,  6.85256000e+05,\n",
       "       -1.00000000e+00, -1.00000000e+00,  6.95356000e+05, -1.00000000e+00,\n",
       "       -1.00000000e+00, -1.00000000e+00, -1.00000000e+00, -1.00000000e+00,\n",
       "       -1.00000000e+00,  6.74950540e+07, -1.00000000e+00,  6.65549000e+05,\n",
       "       -1.00000000e+00, -1.00000000e+00, -1.00000000e+00, -1.00000000e+00,\n",
       "       -1.00000000e+00, -1.00000000e+00, -1.00000000e+00,  6.65349327e+21,\n",
       "       -1.00000000e+00,  6.85257000e+05, -1.00000000e+00, -1.00000000e+00,\n",
       "       -1.00000000e+00, -1.00000000e+00, -1.00000000e+00, -1.00000000e+00,\n",
       "       -1.00000000e+00,  6.65300000e+03,  6.65048000e+05, -1.00000000e+00,\n",
       "       -1.00000000e+00, -1.00000000e+00, -1.00000000e+00, -1.00000000e+00,\n",
       "       -1.00000000e+00, -1.00000000e+00,  6.75456000e+05,  7.03271545e+09,\n",
       "        6.75450327e+13,  6.95052000e+05, -1.00000000e+00, -1.00000000e+00,\n",
       "       -1.00000000e+00, -1.00000000e+00, -1.00000000e+00,  6.95052000e+05,\n",
       "       -1.00000000e+00, -1.00000000e+00,  6.75748000e+05,  6.74950520e+07,\n",
       "        6.74950540e+07, -1.00000000e+00, -1.00000000e+00,  7.03271555e+09,\n",
       "        6.75253000e+05,  6.94948490e+07, -1.00000000e+00, -1.00000000e+00,\n",
       "       -1.00000000e+00, -1.00000000e+00, -1.00000000e+00, -1.00000000e+00,\n",
       "        6.95600000e+03, -1.00000000e+00, -1.00000000e+00, -1.00000000e+00,\n",
       "       -1.00000000e+00, -1.00000000e+00,  6.65300000e+03, -1.00000000e+00,\n",
       "       -1.00000000e+00, -1.00000000e+00, -1.00000000e+00, -1.00000000e+00,\n",
       "       -1.00000000e+00,  6.64948490e+07, -1.00000000e+00, -1.00000000e+00,\n",
       "        6.85253000e+05,  6.75254000e+05,  6.65355327e+29, -1.00000000e+00,\n",
       "       -1.00000000e+00,  6.65050000e+05, -1.00000000e+00, -1.00000000e+00,\n",
       "        6.85148000e+05, -1.00000000e+00, -1.00000000e+00,  6.94950490e+07,\n",
       "       -1.00000000e+00, -1.00000000e+00, -1.00000000e+00, -1.00000000e+00,\n",
       "       -1.00000000e+00, -1.00000000e+00, -1.00000000e+00,  6.65555000e+05,\n",
       "       -1.00000000e+00, -1.00000000e+00, -1.00000000e+00,  6.65754327e+13,\n",
       "       -1.00000000e+00,  6.84949000e+05, -1.00000000e+00, -1.00000000e+00,\n",
       "       -1.00000000e+00, -1.00000000e+00, -1.00000000e+00, -1.00000000e+00,\n",
       "        6.95555000e+05, -1.00000000e+00, -1.00000000e+00, -1.00000000e+00,\n",
       "        7.05156000e+05, -1.00000000e+00, -1.00000000e+00,  6.65100000e+03,\n",
       "       -1.00000000e+00,  6.65048000e+05,  6.85400000e+03, -1.00000000e+00,\n",
       "       -1.00000000e+00, -1.00000000e+00, -1.00000000e+00, -1.00000000e+00,\n",
       "       -1.00000000e+00,  6.65650327e+13, -1.00000000e+00, -1.00000000e+00,\n",
       "       -1.00000000e+00, -1.00000000e+00, -1.00000000e+00, -1.00000000e+00,\n",
       "        6.84955000e+05, -1.00000000e+00, -1.00000000e+00, -1.00000000e+00,\n",
       "       -1.00000000e+00, -1.00000000e+00,  6.65754327e+13, -1.00000000e+00,\n",
       "       -1.00000000e+00, -1.00000000e+00,  6.55154000e+05, -1.00000000e+00,\n",
       "       -1.00000000e+00,  6.95600000e+03, -1.00000000e+00, -1.00000000e+00,\n",
       "       -1.00000000e+00, -1.00000000e+00, -1.00000000e+00,  6.64948500e+07,\n",
       "       -1.00000000e+00, -1.00000000e+00, -1.00000000e+00, -1.00000000e+00,\n",
       "        6.65457000e+05, -1.00000000e+00, -1.00000000e+00,  6.94950490e+07,\n",
       "       -1.00000000e+00, -1.00000000e+00, -1.00000000e+00, -1.00000000e+00,\n",
       "       -1.00000000e+00,  6.65056000e+05, -1.00000000e+00, -1.00000000e+00,\n",
       "       -1.00000000e+00, -1.00000000e+00, -1.00000000e+00,  6.95257000e+05,\n",
       "       -1.00000000e+00, -1.00000000e+00, -1.00000000e+00,  6.75255000e+05,\n",
       "       -1.00000000e+00, -1.00000000e+00, -1.00000000e+00, -1.00000000e+00,\n",
       "       -1.00000000e+00, -1.00000000e+00, -1.00000000e+00, -1.00000000e+00,\n",
       "       -1.00000000e+00,  6.75750000e+05, -1.00000000e+00, -1.00000000e+00,\n",
       "       -1.00000000e+00,  6.85056000e+05, -1.00000000e+00, -1.00000000e+00,\n",
       "       -1.00000000e+00,  6.94955000e+05, -1.00000000e+00, -1.00000000e+00,\n",
       "       -1.00000000e+00, -1.00000000e+00,  6.84955000e+05, -1.00000000e+00,\n",
       "       -1.00000000e+00, -1.00000000e+00, -1.00000000e+00,  6.55052000e+05,\n",
       "       -1.00000000e+00, -1.00000000e+00, -1.00000000e+00,  6.85153000e+05,\n",
       "        6.65349327e+21, -1.00000000e+00, -1.00000000e+00, -1.00000000e+00,\n",
       "       -1.00000000e+00, -1.00000000e+00, -1.00000000e+00,  6.75348000e+05,\n",
       "       -1.00000000e+00, -1.00000000e+00, -1.00000000e+00, -1.00000000e+00,\n",
       "       -1.00000000e+00, -1.00000000e+00, -1.00000000e+00,  6.65250000e+05,\n",
       "       -1.00000000e+00,  6.74952560e+07, -1.00000000e+00])"
      ]
     },
     "execution_count": 112,
     "metadata": {},
     "output_type": "execute_result"
    }
   ],
   "source": [
    "sample_ndarray[:, 8]"
   ]
  },
  {
   "cell_type": "code",
   "execution_count": null,
   "metadata": {
    "execution": {
     "iopub.execute_input": "2024-02-10T01:08:52.645376Z",
     "iopub.status.busy": "2024-02-10T01:08:52.644722Z",
     "iopub.status.idle": "2024-02-10T01:08:52.678738Z",
     "shell.execute_reply": "2024-02-10T01:08:52.676829Z",
     "shell.execute_reply.started": "2024-02-10T01:08:52.64534Z"
    },
    "id": "1GEfsDq7c6im"
   },
   "outputs": [],
   "source": [
    "def normalize(x):\n",
    "    mean = torch.mean(x, dim=0)\n",
    "    std = torch.std(x, dim=0)\n",
    "    return (x - mean) / std\n",
    "\n",
    "class MyDataset(Dataset):\n",
    "    def __init__(self, features, targets):\n",
    "        #tensorize = lambda x: torch.tensor(x, dtype=torch.float64)\n",
    "        self.features = list(map(lambda x: torch.tensor(x, dtype=torch.float64), features))\n",
    "        self.targets = list(map(lambda x: torch.tensor(x, dtype=torch.long), targets))\n",
    "\n",
    "    def __len__(self):\n",
    "        return len(self.features)\n",
    "\n",
    "    def __getitem__(self, index):\n",
    "        return self.features[index], self.targets[index]\n",
    "\n",
    "norm_samps = normalize(torch.tensor(samples, dtype=torch.float64)).tolist()\n",
    "my_dataset = MyDataset(norm_samps, targets)\n",
    "\n",
    "train_size = int(0.85 * len(my_dataset))\n",
    "eval_size = len(my_dataset) - train_size\n",
    "\n",
    "train_dataset, eval_dataset = random_split(my_dataset, [train_size, eval_size])\n",
    "\n",
    "batch_size = 1\n",
    "train_loader = DataLoader(train_dataset, batch_size=batch_size, shuffle=True)\n",
    "eval_loader = DataLoader(eval_dataset, batch_size=batch_size, shuffle=False)"
   ]
  },
  {
   "cell_type": "code",
   "execution_count": null,
   "metadata": {
    "execution": {
     "iopub.execute_input": "2024-02-10T01:09:11.564084Z",
     "iopub.status.busy": "2024-02-10T01:09:11.563498Z",
     "iopub.status.idle": "2024-02-10T01:09:11.577835Z",
     "shell.execute_reply": "2024-02-10T01:09:11.576736Z",
     "shell.execute_reply.started": "2024-02-10T01:09:11.564039Z"
    },
    "id": "6Y125obcc6im"
   },
   "outputs": [],
   "source": [
    "class Model(nn.Module):\n",
    "    def __init__(self):\n",
    "        super().__init__()\n",
    "        self.leakyrelu = nn.LeakyReLU()\n",
    "        self.l1 = nn.Linear(10, 128, dtype=torch.float64)\n",
    "        self.l2 = nn.Linear(128, 128, dtype=torch.float64)\n",
    "        self.l3 = nn.Linear(128, 128, dtype=torch.float64)\n",
    "        self.l4 = nn.Linear(128, 128, dtype=torch.float64)\n",
    "        self.l5 = nn.Linear(128, 128, dtype=torch.float64)\n",
    "        self.l6 = nn.Linear(128, 64, dtype=torch.float64)\n",
    "        self.l7 = nn.Linear(64, 32, dtype=torch.float64)\n",
    "        self.l8 = nn.Linear(32, 16, dtype=torch.float64)\n",
    "        self.l9 = nn.Linear(16, 8, dtype=torch.float64)\n",
    "        self.l10 = nn.Linear(8, 4, dtype=torch.float64)\n",
    "        self.l11 = nn.Linear(4, 2, dtype=torch.float64)\n",
    "\n",
    "        init.xavier_uniform_(self.l1.weight)\n",
    "        init.xavier_uniform_(self.l2.weight)\n",
    "        init.xavier_uniform_(self.l3.weight)\n",
    "        init.xavier_uniform_(self.l4.weight)\n",
    "        init.xavier_uniform_(self.l5.weight)\n",
    "        init.xavier_uniform_(self.l6.weight)\n",
    "        init.xavier_uniform_(self.l7.weight)\n",
    "        init.xavier_uniform_(self.l8.weight)\n",
    "        init.xavier_uniform_(self.l9.weight)\n",
    "        init.xavier_uniform_(self.l10.weight)\n",
    "        init.xavier_uniform_(self.l11.weight)\n",
    "\n",
    "\n",
    "    def forward(self, x):\n",
    "        return self.l11(\n",
    "            self.leakyrelu(self.l10(\n",
    "            self.leakyrelu(self.l9(\n",
    "            self.leakyrelu(self.l8(\n",
    "            self.leakyrelu(self.l7(\n",
    "            self.leakyrelu(self.l6(\n",
    "            self.leakyrelu(self.l5(\n",
    "            self.leakyrelu(self.l4(\n",
    "            self.leakyrelu(self.l3(\n",
    "            self.leakyrelu(self.l2(\n",
    "            self.leakyrelu(self.l1(x)))))))))))))))))))))\n",
    "\n",
    "# this should really be in Model\n",
    "def predict(model, sample):\n",
    "  predictions = model(sample).squeeze()\n",
    "  best_i, best_prob = 0, predictions[0]\n",
    "  for i in range(1, len(predictions)):\n",
    "    if predictions[i] > best_prob:\n",
    "        best_i, best_prob = i, predictions[i]\n",
    "  return best_i"
   ]
  },
  {
   "cell_type": "code",
   "execution_count": null,
   "metadata": {
    "execution": {
     "iopub.execute_input": "2024-02-10T01:09:17.291234Z",
     "iopub.status.busy": "2024-02-10T01:09:17.290748Z",
     "iopub.status.idle": "2024-02-10T01:09:17.298889Z",
     "shell.execute_reply": "2024-02-10T01:09:17.297787Z",
     "shell.execute_reply.started": "2024-02-10T01:09:17.291196Z"
    },
    "id": "y8EvKrWEc6ip"
   },
   "outputs": [],
   "source": [
    "model = Model()"
   ]
  },
  {
   "cell_type": "code",
   "execution_count": null,
   "metadata": {
    "colab": {
     "base_uri": "https://localhost:8080/"
    },
    "execution": {
     "iopub.execute_input": "2024-02-10T01:41:13.117323Z",
     "iopub.status.busy": "2024-02-10T01:41:13.116851Z",
     "iopub.status.idle": "2024-02-10T01:44:13.787124Z",
     "shell.execute_reply": "2024-02-10T01:44:13.785722Z",
     "shell.execute_reply.started": "2024-02-10T01:41:13.117289Z"
    },
    "id": "HDDRIH5_c6iq",
    "outputId": "7062869e-5ad3-4b8b-8b4f-82bc9adc54ec"
   },
   "outputs": [
    {
     "name": "stdout",
     "output_type": "stream",
     "text": [
      "Epoch 1 loss: 180.57594671364873\n",
      "Epoch 2 loss: 180.57487740862632\n",
      "Epoch 3 loss: 180.57404728858185\n",
      "Epoch 4 loss: 180.57285124136428\n",
      "Epoch 5 loss: 180.57185187438066\n",
      "Epoch 6 loss: 180.570647788244\n",
      "Epoch 7 loss: 180.5698597826266\n",
      "Epoch 8 loss: 180.5692789795778\n",
      "Epoch 9 loss: 180.56835008978754\n",
      "Epoch 10 loss: 180.56686304450898\n"
     ]
    }
   ],
   "source": [
    "criterion = nn.CrossEntropyLoss()\n",
    "\n",
    "lr = 0.000001\n",
    "optimizer = optim.SGD(model.parameters(), lr=lr)\n",
    "\n",
    "num_epochs = 10\n",
    "for epoch in range(num_epochs):\n",
    "    epoch_loss = 0.0\n",
    "    for data in train_loader:\n",
    "        ins, labels = data\n",
    "\n",
    "        optimizer.zero_grad()\n",
    "\n",
    "        outs = model(ins)\n",
    "        #print(outs, labels)\n",
    "        loss = criterion(outs, labels)\n",
    "        #print(loss)\n",
    "        #print(loss.size())\n",
    "        #print(loss.shape)\n",
    "        loss.backward()\n",
    "        optimizer.step()\n",
    "\n",
    "        epoch_loss += loss.item()\n",
    "\n",
    "    print(f'Epoch {epoch+1} loss: {epoch_loss}')"
   ]
  },
  {
   "cell_type": "raw",
   "metadata": {
    "id": "OM6DSQEvc6ir"
   },
   "source": []
  },
  {
   "cell_type": "code",
   "execution_count": null,
   "metadata": {
    "id": "TF_TaPnZfEGb"
   },
   "outputs": [],
   "source": []
  },
  {
   "cell_type": "code",
   "execution_count": null,
   "metadata": {
    "colab": {
     "base_uri": "https://localhost:8080/"
    },
    "id": "f02Y2zqQfECH",
    "outputId": "23d9b0cf-e583-4e93-bfa8-41a120a46d9c"
   },
   "outputs": [
    {
     "name": "stdout",
     "output_type": "stream",
     "text": [
      "78502\n"
     ]
    }
   ],
   "source": [
    "# print parameter count\n",
    "total_params = sum(p.numel() for p in model.parameters())\n",
    "print(total_params)"
   ]
  },
  {
   "cell_type": "code",
   "execution_count": null,
   "metadata": {
    "colab": {
     "base_uri": "https://localhost:8080/"
    },
    "id": "T1_ELoWZfD--",
    "outputId": "b2ba2a9d-c400-485c-db02-94fe718b9b72"
   },
   "outputs": [
    {
     "name": "stdout",
     "output_type": "stream",
     "text": [
      "tensor([[-1.5652, -0.0000,  1.3548,  0.3582,  0.6814,  0.5601, -0.0842,  0.4827,\n",
      "         -0.0474, -1.7321]], dtype=torch.float64)\n",
      "tensor([1])\n"
     ]
    }
   ],
   "source": [
    "# print sample and label of a random datapoint\n",
    "for batch in train_loader:\n",
    "    ins, lbls = batch\n",
    "    print(ins)\n",
    "    print(lbls)\n",
    "    break"
   ]
  },
  {
   "cell_type": "code",
   "execution_count": null,
   "metadata": {
    "colab": {
     "base_uri": "https://localhost:8080/"
    },
    "id": "YWW8oztyhQWx",
    "outputId": "4e93bddc-42fd-4537-8839-605299ad381c"
   },
   "outputs": [
    {
     "name": "stdout",
     "output_type": "stream",
     "text": [
      "Parameter containing:\n",
      "tensor([[-0.1882,  0.0417,  0.1344,  ..., -0.1266,  0.0709, -0.1948],\n",
      "        [ 0.0809,  0.1979, -0.1637,  ...,  0.0078, -0.1980,  0.1443],\n",
      "        [ 0.0949, -0.1445,  0.1798,  ...,  0.1913, -0.0129, -0.2070],\n",
      "        ...,\n",
      "        [-0.0589,  0.1539,  0.1891,  ...,  0.0033, -0.0295, -0.2041],\n",
      "        [ 0.0160, -0.1946, -0.0840,  ..., -0.0329,  0.1356, -0.0375],\n",
      "        [-0.1298,  0.0718, -0.1236,  ...,  0.1035, -0.0308, -0.1298]],\n",
      "       dtype=torch.float64, requires_grad=True)\n",
      "Parameter containing:\n",
      "tensor([-0.1787, -0.0261, -0.0845, -0.2812,  0.2499,  0.1371, -0.0737, -0.1580,\n",
      "        -0.2576, -0.2254,  0.1206,  0.0285, -0.0928,  0.1375, -0.2319, -0.2196,\n",
      "         0.2096,  0.3126, -0.2185,  0.0242,  0.0511, -0.2590, -0.0502, -0.0126,\n",
      "         0.2660,  0.2276,  0.2127, -0.1135,  0.1478,  0.0352, -0.0652, -0.2142,\n",
      "         0.0649,  0.3095, -0.0339,  0.0113,  0.0727,  0.0459,  0.2704, -0.1651,\n",
      "        -0.2444, -0.0033, -0.0086,  0.2405,  0.1585,  0.2560,  0.0291,  0.1131,\n",
      "        -0.1054,  0.2527, -0.0996,  0.2243, -0.2962,  0.0340,  0.0216,  0.2543,\n",
      "        -0.1293,  0.1131, -0.3115, -0.1559,  0.2830, -0.2808,  0.0665,  0.2292,\n",
      "         0.2928,  0.0061,  0.2406,  0.2820, -0.1960, -0.0040, -0.2521,  0.0249,\n",
      "         0.1756,  0.2946, -0.0110,  0.2763,  0.1505, -0.2048,  0.2472,  0.0501,\n",
      "        -0.1485,  0.2616, -0.1897,  0.0197, -0.2593, -0.1512, -0.0231,  0.0227,\n",
      "         0.2241, -0.2510,  0.0355,  0.0139,  0.1098, -0.1262,  0.2123, -0.1667,\n",
      "         0.0551,  0.2187,  0.1108, -0.1613, -0.0034, -0.2186, -0.2309,  0.3131,\n",
      "         0.2360,  0.1986, -0.2059, -0.1788, -0.0294,  0.0886, -0.1913, -0.1182,\n",
      "        -0.1383, -0.2712, -0.2048,  0.1160, -0.2906,  0.0169, -0.2339, -0.1958,\n",
      "         0.2520, -0.0351, -0.0434,  0.1078,  0.0647, -0.1775, -0.2061, -0.0537],\n",
      "       dtype=torch.float64, requires_grad=True)\n"
     ]
    }
   ],
   "source": [
    "# print params (before training)\n",
    "for _, param in model.l1.named_parameters():\n",
    "    print(param)"
   ]
  },
  {
   "cell_type": "code",
   "execution_count": null,
   "metadata": {
    "colab": {
     "base_uri": "https://localhost:8080/"
    },
    "id": "KzEn1ORPhzjf",
    "outputId": "a290d9fc-e300-47e7-b660-a5ce1a67f68d"
   },
   "outputs": [
    {
     "name": "stdout",
     "output_type": "stream",
     "text": [
      "Parameter containing:\n",
      "tensor([[-0.4525,  0.0417,  0.5834,  ..., -0.2398,  0.0831, -0.2615],\n",
      "        [ 0.0755,  0.1979, -0.1699,  ..., -0.0210, -0.1923,  0.1884],\n",
      "        [ 0.1168, -0.1445,  0.2404,  ...,  0.2697, -0.0041, -0.1796],\n",
      "        ...,\n",
      "        [-0.1878,  0.1539,  0.2323,  ...,  0.0637, -0.0205, -0.3001],\n",
      "        [-0.1156, -0.1946, -0.2763,  ...,  0.0172,  0.1264, -0.1373],\n",
      "        [ 0.0087,  0.0718, -0.1556,  ...,  0.3245, -0.0283, -0.1450]],\n",
      "       dtype=torch.float64, requires_grad=True)\n",
      "Parameter containing:\n",
      "tensor([-0.2973, -0.1476, -0.0966, -0.2427,  0.1541,  0.1073, -0.0707, -0.2312,\n",
      "        -0.3669, -0.2362,  0.0332, -0.0434, -0.1305,  0.0500, -0.3289, -0.2467,\n",
      "         0.1177,  0.0793, -0.1441, -0.1685,  0.0568, -0.2402, -0.1727,  0.0308,\n",
      "         0.1898,  0.1037,  0.1362, -0.2224,  0.0298, -0.0240, -0.1450, -0.2501,\n",
      "        -0.0015,  0.1393, -0.1146, -0.0233, -0.0379, -0.0090,  0.0997, -0.1843,\n",
      "        -0.2788, -0.0118, -0.0062,  0.0936,  0.0836,  0.2171, -0.0619, -0.0014,\n",
      "        -0.0908,  0.1726, -0.0709,  0.0838, -0.3138,  0.0969,  0.0516,  0.2430,\n",
      "        -0.1784,  0.0681, -0.3294, -0.2634,  0.2750, -0.3037,  0.0486,  0.0570,\n",
      "         0.2318, -0.0320,  0.1206,  0.2189, -0.2321,  0.0248, -0.2156, -0.0037,\n",
      "         0.1068,  0.2628, -0.0335,  0.1570,  0.0284, -0.2394,  0.2447,  0.0093,\n",
      "        -0.2432,  0.1324, -0.1989, -0.0865, -0.2906, -0.1339, -0.0585, -0.0852,\n",
      "         0.1249, -0.2542, -0.0028, -0.0224, -0.0319, -0.1844,  0.0093, -0.2325,\n",
      "         0.0388,  0.1686,  0.0883, -0.1604, -0.0637, -0.2219, -0.2373,  0.2678,\n",
      "         0.0991,  0.1586, -0.2748, -0.1963, -0.1124, -0.0165, -0.1987, -0.0741,\n",
      "        -0.3080, -0.2465, -0.2266,  0.1030, -0.3369, -0.0566, -0.2474, -0.1315,\n",
      "         0.1938, -0.1636, -0.0069,  0.0676,  0.0023, -0.2215, -0.1871, -0.0570],\n",
      "       dtype=torch.float64, requires_grad=True)\n"
     ]
    }
   ],
   "source": [
    "#print params (after training)\n",
    "for _, param in model.l1.named_parameters():\n",
    "    print(param)"
   ]
  },
  {
   "cell_type": "code",
   "execution_count": null,
   "metadata": {
    "colab": {
     "base_uri": "https://localhost:8080/"
    },
    "id": "Ug-g0nP7hzg_",
    "outputId": "00864f34-c0c9-4fe9-b976-9299700fa33a"
   },
   "outputs": [
    {
     "name": "stdout",
     "output_type": "stream",
     "text": [
      "sample 1:\n",
      "tensor([0])\n",
      "tensor([[ 2.1752, -8.6576]], dtype=torch.float64, grad_fn=<AddmmBackward0>)\n",
      "0\n",
      "tensor(1.9741e-05, dtype=torch.float64, grad_fn=<NllLossBackward0>)\n",
      "\n"
     ]
    }
   ],
   "source": [
    "# print N examples of the model's predictions\n",
    "N = 1\n",
    "for i in range(N):\n",
    "    for batch in train_loader:\n",
    "        ins, lbls = batch\n",
    "        out = model(ins)\n",
    "        probs = torch.log(out)\n",
    "        loss = criterion(model(ins), lbls)\n",
    "        prediction = predict(model, ins)\n",
    "        #loss = F.cross_entropy(out, lbls)\n",
    "        #print(ins)\n",
    "        print(f'sample {i+1}:')\n",
    "        print(lbls)\n",
    "        print(out)\n",
    "        print(prediction)\n",
    "        #print(probs)\n",
    "        print(loss)\n",
    "        print()\n",
    "        break"
   ]
  },
  {
   "cell_type": "code",
   "execution_count": null,
   "metadata": {
    "colab": {
     "base_uri": "https://localhost:8080/"
    },
    "id": "R2HmLYhSucHj",
    "outputId": "6beae7ca-d6eb-48a2-fa11-c35b1f77e31b"
   },
   "outputs": [
    {
     "name": "stdout",
     "output_type": "stream",
     "text": [
      "105 correct out of 134: 0.7835820895522388%\n"
     ]
    }
   ],
   "source": [
    "#EVAL\n",
    "\n",
    "# MAX = 100\n",
    "# i = 0\n",
    "correct, total = 0, 0\n",
    "for batch in eval_loader:\n",
    "  # if i > MAX:\n",
    "  #   break\n",
    "\n",
    "  [s, t] = batch\n",
    "  #print(f'target: {t.item()}\\teval: {model(s)}\\tpredict: {predict(model, s)}\\t{correct}/{total}')\n",
    "  correct, total = correct + (1 if predict(model, s) == t.item() else 0), total + 1\n",
    "\n",
    "  # i = i + 1\n",
    "print(f'{correct} correct out of {total}: {correct/total}%')"
   ]
  },
  {
   "cell_type": "code",
   "execution_count": null,
   "metadata": {
    "id": "Gn8F723-ub-D"
   },
   "outputs": [],
   "source": []
  },
  {
   "cell_type": "code",
   "execution_count": null,
   "metadata": {
    "id": "Aa89cVVoub6c"
   },
   "outputs": [],
   "source": [
    "input_path = '../input/titanic/test.csv'\n",
    "\n",
    "with open(input_path, 'r') as f:\n",
    "    reader = csv.reader(f)\n",
    "    _ = next(reader)\n",
    "    test_samples = []\n",
    "    test_ids = []\n",
    "\n",
    "    for row in reader:\n",
    "        id = int(row[0])\n",
    "        test_ids.append(id)\n",
    "\n",
    "        samp = [str_to_float(v) for v in row[1:]]\n",
    "        test_samples.append(samp)"
   ]
  },
  {
   "cell_type": "code",
   "execution_count": null,
   "metadata": {
    "id": "SwF7FKGLyjBk"
   },
   "outputs": [],
   "source": [
    "norm_test_samps = normalize(torch.tensor(test_samples, dtype=torch.float64)).tolist()\n",
    "my_test_dataset = MyDataset(norm_test_samps, test_ids)\n",
    "batch_size = 1\n",
    "test_loader = DataLoader(my_test_dataset, batch_size=batch_size, shuffle=False)"
   ]
  },
  {
   "cell_type": "code",
   "execution_count": null,
   "metadata": {
    "id": "pC-42X8ksd5k"
   },
   "outputs": [],
   "source": [
    "# Opening the file in write mode with 'newline' parameter to avoid extra spacing\n",
    "with open('submission1.csv', 'w', newline='') as csvfile:\n",
    "    # Creating a CSV writer object\n",
    "    csv_writer = csv.writer(csvfile)\n",
    "\n",
    "    # Writing the header row\n",
    "    csv_writer.writerow(['PassengerId', 'Survived'])\n",
    "\n",
    "    # Iterating through the test loader\n",
    "    for batch in test_loader:\n",
    "        # Extracting the features and IDs from the batch\n",
    "        s, id = batch\n",
    "\n",
    "        # Writing the ID and predicted value to the CSV file\n",
    "        csv_writer.writerow([id.item(), predict(model, s)])"
   ]
  },
  {
   "cell_type": "code",
   "execution_count": null,
   "metadata": {
    "colab": {
     "base_uri": "https://localhost:8080/"
    },
    "id": "7OafLorlymjT",
    "outputId": "7e2d05a8-3eaa-4fc7-9282-92c70bf324f2"
   },
   "outputs": [
    {
     "name": "stdout",
     "output_type": "stream",
     "text": [
      "/content\n"
     ]
    }
   ],
   "source": [
    "!pwd"
   ]
  },
  {
   "cell_type": "code",
   "execution_count": null,
   "metadata": {
    "id": "aKTTjOzf0eS3"
   },
   "outputs": [],
   "source": [
    "torch.save(model.state_dict(), 'model_weights.pth')"
   ]
  },
  {
   "cell_type": "code",
   "execution_count": null,
   "metadata": {
    "id": "s7uJvYWB1Dxf"
   },
   "outputs": [],
   "source": []
  },
  {
   "cell_type": "code",
   "execution_count": null,
   "metadata": {
    "colab": {
     "base_uri": "https://localhost:8080/"
    },
    "id": "Gw2hK_ET1I7w",
    "outputId": "33ec403a-4896-4d0b-f030-8fb0c2e6756a"
   },
   "outputs": [
    {
     "data": {
      "text/plain": [
       "<All keys matched successfully>"
      ]
     },
     "execution_count": 180,
     "metadata": {},
     "output_type": "execute_result"
    }
   ],
   "source": [
    "model2 = Model()\n",
    "model2.load_state_dict(torch.load('model_weights.pth'))"
   ]
  },
  {
   "cell_type": "code",
   "execution_count": null,
   "metadata": {
    "colab": {
     "base_uri": "https://localhost:8080/"
    },
    "id": "X5S0FgvL1RJn",
    "outputId": "f60fadfd-f50a-4898-fd7b-1d010e75beaa"
   },
   "outputs": [
    {
     "name": "stdout",
     "output_type": "stream",
     "text": [
      "105 correct out of 134: 0.7835820895522388%\n"
     ]
    }
   ],
   "source": [
    "#EVAL\n",
    "\n",
    "# MAX = 100\n",
    "# i = 0\n",
    "correct, total = 0, 0\n",
    "for batch in eval_loader:\n",
    "  # if i > MAX:\n",
    "  #   break\n",
    "\n",
    "  [s, t] = batch\n",
    "  #print(f'target: {t.item()}\\teval: {model(s)}\\tpredict: {predict(model, s)}\\t{correct}/{total}')\n",
    "  correct, total = correct + (1 if predict(model2, s) == t.item() else 0), total + 1\n",
    "\n",
    "  # i = i + 1\n",
    "print(f'{correct} correct out of {total}: {correct/total}%')"
   ]
  },
  {
   "cell_type": "code",
   "execution_count": null,
   "metadata": {
    "id": "8oMJdPpB1TeF"
   },
   "outputs": [],
   "source": []
  }
 ],
 "metadata": {
  "accelerator": "GPU",
  "colab": {
   "gpuType": "T4",
   "provenance": []
  },
  "kaggle": {
   "accelerator": "none",
   "dataSources": [
    {
     "databundleVersionId": 26502,
     "sourceId": 3136,
     "sourceType": "competition"
    }
   ],
   "dockerImageVersionId": 30646,
   "isGpuEnabled": false,
   "isInternetEnabled": true,
   "language": "python",
   "sourceType": "notebook"
  },
  "kernelspec": {
   "display_name": "Python 3 (ipykernel)",
   "language": "python",
   "name": "python3"
  },
  "language_info": {
   "codemirror_mode": {
    "name": "ipython",
    "version": 3
   },
   "file_extension": ".py",
   "mimetype": "text/x-python",
   "name": "python",
   "nbconvert_exporter": "python",
   "pygments_lexer": "ipython3",
   "version": "3.11.7"
  }
 },
 "nbformat": 4,
 "nbformat_minor": 4
}
